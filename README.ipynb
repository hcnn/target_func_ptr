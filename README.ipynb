{
 "cells": [
  {
   "cell_type": "markdown",
   "metadata": {},
   "source": [
    "Contains the `typedef` for `TARGET_FUNC_PTR` that expect the\n",
    "optimization variables `x`, the number of variables `n` and \n",
    "an array or pointer to function specifc parameters. \n",
    "\n",
    "Use the `double *param = NULL` pointer if the user defined \n",
    "optimization function does not expect other parameters."
   ]
  },
  {
   "cell_type": "code",
   "execution_count": 1,
   "metadata": {
    "ExecuteTime": {
     "end_time": "2018-09-04T15:08:04.810710Z",
     "start_time": "2018-09-04T15:08:04.675094Z"
    }
   },
   "outputs": [
    {
     "name": "stdout",
     "output_type": "stream",
     "text": [
      "3.00\n",
      "3.00\n",
      "5.00\n"
     ]
    }
   ],
   "source": [
    "#include <stdio.h> //printf\n",
    "#include <stdlib.h> //exit\n",
    "#include <stddef.h> //size_t\n",
    "\n",
    "typedef double (*TARGET_FUNC_PTR)(const double*, size_t, const double*);\n",
    "\n",
    "double functest0(const double* x, size_t n, const double* param){\n",
    "    if(param != NULL){printf(\"set *param=NULL\\n\"); exit(1);}\n",
    "    double tmp = 0.0;\n",
    "    size_t i;\n",
    "    for(i=0; i<n; i++){\n",
    "        tmp += x[i];\n",
    "    }\n",
    "    return tmp / (double)n;\n",
    "}\n",
    "\n",
    "double functest1(const double* x, size_t n, const double* param){\n",
    "    double tmp = 0.0;\n",
    "    size_t i;\n",
    "    \n",
    "    double a = param[0];\n",
    "    double b = param[1];\n",
    "    \n",
    "    for(i=0; i<n; i++){\n",
    "        tmp += a + b * x[i];\n",
    "    }\n",
    "    return tmp / (double)n;\n",
    "}\n",
    "\n",
    "int main(){\n",
    "    double x[] = {1,2,3,4,5};\n",
    "    size_t n = 5;\n",
    "    \n",
    "    TARGET_FUNC_PTR fun0 = &functest0;    \n",
    "    double *p0 = NULL;\n",
    "    double z0 = fun0(x, n, p0);\n",
    "    printf(\"%.2f\\n\", z0);\n",
    "    \n",
    "    z0 = fun0(x, n, NULL);\n",
    "    printf(\"%.2f\\n\", z0);\n",
    "    \n",
    "    TARGET_FUNC_PTR fun1 = &functest1;\n",
    "    double p1[] = {0.5, 1.5};\n",
    "    double z1 = fun1(x, n, p1);\n",
    "    printf(\"%.2f\\n\", z1);\n",
    "}"
   ]
  }
 ],
 "metadata": {
  "kernelspec": {
   "display_name": "C",
   "language": "c",
   "name": "c"
  },
  "language_info": {
   "file_extension": ".c",
   "mimetype": "text/plain",
   "name": "c"
  },
  "toc": {
   "base_numbering": 1,
   "nav_menu": {},
   "number_sections": true,
   "sideBar": true,
   "skip_h1_title": false,
   "title_cell": "Table of Contents",
   "title_sidebar": "Contents",
   "toc_cell": false,
   "toc_position": {},
   "toc_section_display": true,
   "toc_window_display": false
  },
  "varInspector": {
   "cols": {
    "lenName": 16,
    "lenType": 16,
    "lenVar": 40
   },
   "kernels_config": {
    "python": {
     "delete_cmd_postfix": "",
     "delete_cmd_prefix": "del ",
     "library": "var_list.py",
     "varRefreshCmd": "print(var_dic_list())"
    },
    "r": {
     "delete_cmd_postfix": ") ",
     "delete_cmd_prefix": "rm(",
     "library": "var_list.r",
     "varRefreshCmd": "cat(var_dic_list()) "
    }
   },
   "types_to_exclude": [
    "module",
    "function",
    "builtin_function_or_method",
    "instance",
    "_Feature"
   ],
   "window_display": false
  }
 },
 "nbformat": 4,
 "nbformat_minor": 2
}
